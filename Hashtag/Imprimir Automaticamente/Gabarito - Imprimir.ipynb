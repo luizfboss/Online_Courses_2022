{
 "cells": [
  {
   "cell_type": "code",
   "execution_count": 4,
   "id": "3d417704",
   "metadata": {},
   "outputs": [],
   "source": [
    "import win32print\n",
    "import win32api\n",
    "import os\n",
    "\n",
    "# escolher qual impressora a gente vai querer usar\n",
    "lista_impressoras = win32print.EnumPrinters(2)\n",
    "impressora = lista_impressoras[4]\n",
    "\n",
    "win32print.SetDefaultPrinter(impressora[2])\n",
    "\n",
    "# mandar imprimir todos os arquivos de uma pasta\n",
    "caminho = r\"C:\\Users\\Python\\Desktop\\Imprimir Automaticamente com Python\\Imprimir\"\n",
    "lista_arquivos = os.listdir(caminho)\n",
    "\n",
    "# https://docs.microsoft.com/en-us/windows/win32/api/shellapi/nf-shellapi-shellexecutea\n",
    "for arquivo in lista_arquivos:\n",
    "    win32api.ShellExecute(0, \"print\", arquivo, None, caminho, 0)"
   ]
  },
  {
   "cell_type": "code",
   "execution_count": null,
   "id": "329391c9",
   "metadata": {},
   "outputs": [],
   "source": []
  }
 ],
 "metadata": {
  "kernelspec": {
   "display_name": "Python 3",
   "language": "python",
   "name": "python3"
  },
  "language_info": {
   "codemirror_mode": {
    "name": "ipython",
    "version": 3
   },
   "file_extension": ".py",
   "mimetype": "text/x-python",
   "name": "python",
   "nbconvert_exporter": "python",
   "pygments_lexer": "ipython3",
   "version": "3.8.8"
  }
 },
 "nbformat": 4,
 "nbformat_minor": 5
}
