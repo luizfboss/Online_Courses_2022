{
 "cells": [
  {
   "cell_type": "code",
   "execution_count": null,
   "metadata": {
    "id": "S4gqGkxOR_pe"
   },
   "outputs": [],
   "source": [
    "# Automação de Sistemas e Processos com Python\n",
    "\n",
    "### Desafio:\n",
    "\n",
    "Todos os dias, o nosso sistema atualiza as vendas do dia anterior.\n",
    "O seu trabalho diário, como analista, é enviar um e-mail para a diretoria, assim que começar a trabalhar, com o faturamento e a quantidade de produtos vendidos no dia anterior\n",
    "\n",
    "E-mail da diretoria: seugmail+diretoria@gmail.com<br>\n",
    "Local onde o sistema disponibiliza as vendas do dia anterior: https://drive.google.com/drive/folders/149xknr9JvrlEnhNWO49zPcw0PW5icxga?usp=sharing\n",
    "\n",
    "Para resolver isso, vamos usar o pyautogui, uma biblioteca de automação de comandos do mouse e do teclado"
   ]
  },
  {
   "cell_type": "code",
   "execution_count": 1,
   "metadata": {
    "id": "Lu_mL3QDR_pg"
   },
   "outputs": [
    {
     "ename": "ModuleNotFoundError",
     "evalue": "No module named 'pyautogui'",
     "output_type": "error",
     "traceback": [
      "\u001b[1;31m---------------------------------------------------------------------------\u001b[0m",
      "\u001b[1;31mModuleNotFoundError\u001b[0m                       Traceback (most recent call last)",
      "\u001b[1;32mc:\\Users\\User\\Documents\\_Documents\\_Estudos\\Python\\Hashtag\\Arquivo Inicial - Aula_1.ipynb Cell 2'\u001b[0m in \u001b[0;36m<cell line: 1>\u001b[1;34m()\u001b[0m\n\u001b[1;32m----> <a href='vscode-notebook-cell:/c%3A/Users/User/Documents/_Documents/_Estudos/Python/Hashtag/Arquivo%20Inicial%20-%20Aula_1.ipynb#ch0000001?line=0'>1</a>\u001b[0m \u001b[39mimport\u001b[39;00m \u001b[39mpyautogui\u001b[39;00m\n\u001b[0;32m      <a href='vscode-notebook-cell:/c%3A/Users/User/Documents/_Documents/_Estudos/Python/Hashtag/Arquivo%20Inicial%20-%20Aula_1.ipynb#ch0000001?line=1'>2</a>\u001b[0m \u001b[39mimport\u001b[39;00m \u001b[39mpyperclip\u001b[39;00m\n\u001b[0;32m      <a href='vscode-notebook-cell:/c%3A/Users/User/Documents/_Documents/_Estudos/Python/Hashtag/Arquivo%20Inicial%20-%20Aula_1.ipynb#ch0000001?line=2'>3</a>\u001b[0m \u001b[39mfrom\u001b[39;00m \u001b[39mtime\u001b[39;00m \u001b[39mimport\u001b[39;00m sleep\n",
      "\u001b[1;31mModuleNotFoundError\u001b[0m: No module named 'pyautogui'"
     ]
    }
   ],
   "source": [
    "import pyautogui\n",
    "import pyperclip\n",
    "from time import sleep\n",
    "\n",
    "# Passo 1: Entrar no sistema (entrar no link: https://drive.google.com/drive/folders/149xknr9JvrlEnhNWO49zPcw0PW5icxga?usp=sharing)\n",
    "pyautogui.hotkey('ctrl', 't')\n",
    "link = \"https://drive.google.com/drive/folders/149xknr9JvrlEnhNWO49zPcw0PW5icxga?usp=sharing\"\n",
    "pyperclip.copy(link)\n",
    "pyautogui.hotkey('ctrl', 'v')\n",
    "pyautogui.press('enter')\n",
    "\n",
    "# Passo 2: Navegar no sistema (entrar na pasta Exportar)\n",
    "sleep(5) # Delay 5s\n",
    "pyautogui.click(x=347, y=279, clicks=2)\n",
    "\n",
    "# Passo 3: Baixar o arquivo de vendas (Excel, no caso)\n",
    "sleep(2)\n",
    "pyautogui.click(x=356, y=346)\n",
    "sleep(1)\n",
    "pyautogui.click(x=1714, y=155)\n",
    "sleep(1)\n",
    "pyautogui.click(x=1476, y=569)\n",
    "sleep(3)"
   ]
  },
  {
   "cell_type": "code",
   "execution_count": 7,
   "metadata": {
    "id": "D7fAfei-R_pi"
   },
   "outputs": [],
   "source": [
    "import pyautogui\n",
    "import pyperclip\n",
    "from time import sleep\n",
    "# Passo 5: Enviar o e-mail para a diretoria\n",
    "link = \"https://mail.google.com/mail/u/0/#inbox\"\n",
    "\n",
    "pyautogui.hotkey('ctrl', 't') # Nova tab\n",
    "pyperclip.copy(link)\n",
    "pyautogui.hotkey('ctrl', 'v')\n",
    "pyautogui.press('enter')\n",
    "\n",
    "# Clicar no botao Escrever\n",
    "sleep(3)\n",
    "pyautogui.click(x=78, y=171)\n",
    "\n",
    "# Escrever pra quem esta mandando o email\n",
    "sleep(2)\n",
    "pyautogui.write(\"gustavo.gmelati@sousingular.com.br\")\n",
    "pyautogui.press('tab') # Escolher o Email\n",
    "pyautogui.press('tab') # Passar pro campo de assunto\n",
    "\n",
    "# Assunto do Email\n",
    "assunto = \"Relatorio de Vendas\"\n",
    "pyperclip.copy(assunto)\n",
    "pyautogui.hotkey('ctrl', 'v')\n",
    "pyautogui.press('tab') # Passar para o corpo do email\n",
    "\n",
    "# Escrever o corpo do email\n",
    "sleep(1)\n",
    "texto = f\"\"\"\n",
    "Prezados, bom dia!\n",
    "\n",
    "Why are you gae??\n",
    "\n",
    "Abs,\n",
    "Luiz Felipe\"\"\"\n",
    "pyautogui.write(texto)\n",
    "\n",
    "# Enviar o email\n",
    "pyautogui.hotkey('ctrl', 'enter')\n"
   ]
  },
  {
   "cell_type": "code",
   "execution_count": null,
   "metadata": {
    "id": "FBQP26XiR_pj"
   },
   "outputs": [],
   "source": [
    "sleep(5)\n",
    "pyautogui.position()"
   ]
  }
 ],
 "metadata": {
  "colab": {
   "name": "Arquivo Inicial - Aula 1.ipynb",
   "provenance": []
  },
  "interpreter": {
   "hash": "afb734500600fd355917ca529030176ea0ca205570884b88f2f6f7d791fd3fbe"
  },
  "kernelspec": {
   "display_name": "Python 3.10.2 64-bit",
   "language": "python",
   "name": "python3"
  },
  "language_info": {
   "codemirror_mode": {
    "name": "ipython",
    "version": 3
   },
   "file_extension": ".py",
   "mimetype": "text/x-python",
   "name": "python",
   "nbconvert_exporter": "python",
   "pygments_lexer": "ipython3",
   "version": "3.10.2"
  }
 },
 "nbformat": 4,
 "nbformat_minor": 1
}
