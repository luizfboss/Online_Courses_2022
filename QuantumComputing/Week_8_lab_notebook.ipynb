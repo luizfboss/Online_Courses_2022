{
 "cells": [
  {
   "cell_type": "markdown",
   "id": "d2497f68-e565-4dec-8d5e-ec337e37128e",
   "metadata": {
    "id": "d2497f68-e565-4dec-8d5e-ec337e37128e"
   },
   "source": [
    "<div style=\"text-align: center; margin: 50px\">\n",
    "\n",
    "<h1 style=\"text-align: center;\">Qubit by Qubit</h1>\n",
    "<h2 style=\"text-align: center;\">Introduction to Quantum Computing</h1>\n",
    "<h3>Week 8 - Random Bit Generator in Qiskit</h3>\n",
    "<h3>Lab notebook</h3>\n",
    "\n",
    "</div>"
   ]
  },
  {
   "cell_type": "markdown",
   "id": "e39e6b0f-c299-4cf1-8c2a-5131bc42648b",
   "metadata": {
    "id": "e39e6b0f-c299-4cf1-8c2a-5131bc42648b"
   },
   "source": [
    "## Coding cheat sheet:\n",
    "\n",
    "Defining a quantum circuit: \n",
    "\n",
    "`qc = QuantumCircuit(1)` # Define a 1 qubit quantum circuit <br>\n",
    "`qc = QuantumCircuit(1,1)` # Define a 1 qubit quantum circuit with 1 classical bit (Only for QASM simulator or real Quantum Computer) <br>\n",
    "\n",
    "`qc.x(0)` # Add an X gate <br>\n",
    "`qc.h(0)` # Add an H gate <br>\n",
    "`qc.z(0)` # Add a Z gate <br>\n",
    "\n",
    "`qc.measure(0,0)` # Add measurement to circuit (Only for QASM simulator or real Quantum Computer) <br>\n",
    "\n",
    "`qc.draw()` #Draw the circuit <br>\n",
    "\n",
    "\n",
    "Set up and run the statevector simulator:<br>\n",
    "\n",
    "`backend = Aer.get_backend('statevector_simulator')` # Tell it which simulator you want to use <br>\n",
    "`job = execute(qc,backend)` # Put in the name of your quantum circuit where it says qc<br>\n",
    "`result = job.result()` <br>\n",
    "\n",
    "Set up and run the QASM simulator:<br>\n",
    "\n",
    "`backend = Aer.get_backend('qasm_simulator')` # Tell it which simulator you want to use <br>\n",
    "`job = execute(qc,backend, shots = 1024)` # Put in the name of your quantum circuit where it says qc, and the number of shots you want to use<br>\n",
    "`result = job.result()` <br>\n",
    "\n",
    "\n",
    "See the output in vector form (only for Statevector simulator):<br>\n",
    "`state = result.get_statevector()` <br>\n",
    "`array_to_latex(state, pretext=\"\\\\text{Statevector} = \")` <br>\n",
    "\n",
    "See the output in histogram form (for Statevector, QASM, or real quantum computer): <br>\n",
    "`counts = result.get_counts()` <br>\n",
    "`plot_histogram(counts)` <br>\n"
   ]
  },
  {
   "cell_type": "code",
   "execution_count": 6,
   "id": "863aa459-349d-43be-b305-f1ca757b4858",
   "metadata": {
    "id": "863aa459-349d-43be-b305-f1ca757b4858"
   },
   "outputs": [
    {
     "name": "stderr",
     "output_type": "stream",
     "text": [
      "ibmqfactory.load_account:WARNING:2021-11-20 18:34:03,470: Credentials are already in use. The existing account in the session will be replaced.\n"
     ]
    },
    {
     "name": "stdout",
     "output_type": "stream",
     "text": [
      "Libraries imported successfully!\n"
     ]
    }
   ],
   "source": [
    "# Importing standard Qiskit libraries\n",
    "from qiskit import QuantumCircuit  #Importing the QuantumCircuit function from Qiskit. We will use this to create our quantum circuits!\n",
    "\n",
    "# We will use these functions to run our circuit and visualize its final state\n",
    "from qiskit import Aer, execute, IBMQ \n",
    "from qiskit.visualization import *\n",
    "\n",
    "\n",
    "import warnings  # We are using this library to suppress some warning messages\n",
    "warnings.filterwarnings(\"ignore\")\n",
    "\n",
    "provider = IBMQ.load_account()\n",
    "print(\"Libraries imported successfully!\")"
   ]
  },
  {
   "cell_type": "code",
   "execution_count": 7,
   "id": "8960aede-1965-4905-92ba-4ee36f22855f",
   "metadata": {
    "id": "8960aede-1965-4905-92ba-4ee36f22855f"
   },
   "outputs": [
    {
     "data": {
      "image/png": "[encoded data removed]",
      "text/plain": [
       "<Figure size 193.726x144.48 with 1 Axes>"
      ]
     },
     "execution_count": 7,
     "metadata": {},
     "output_type": "execute_result"
    }
   ],
   "source": [
    "# Block 1- Create a quantum circuit with 1 qubit. Add an H gate to your circuit. Add a measurement to your circuit and draw it.\n",
    "qc = QuantumCircuit(1,1) #No classical bits\n",
    "qc.h(0)\n",
    "qc.measure(0,0)\n",
    "qc.draw()"
   ]
  },
  {
   "cell_type": "code",
   "execution_count": 8,
   "id": "7cde8cc7-c6a9-4ecd-adc6-7247efefd7c2",
   "metadata": {
    "id": "7cde8cc7-c6a9-4ecd-adc6-7247efefd7c2"
   },
   "outputs": [],
   "source": [
    "# Block 2 - Simulate this circuit using QASM, with shots = 1. \n",
    "# insert code to set up and run the simulation\n",
    "# insert code to print counts. What did you get - 0 or 1?\n",
    "backend = Aer.get_backend('statevector_simulator') # Tell it which simulator you want to use\n",
    "job = execute(qc,backend) # Put in the name of your quantum circuit where it says qc\n",
    "result = job.result()\n",
    "counts = result.get_counts()"
   ]
  },
  {
   "cell_type": "code",
   "execution_count": 9,
   "id": "1562af52-fc2e-4f05-b153-b4e8db58476f",
   "metadata": {
    "id": "1562af52-fc2e-4f05-b153-b4e8db58476f"
   },
   "outputs": [
    {
     "name": "stdout",
     "output_type": "stream",
     "text": [
      "The random bit generated by the quantum circuit was: \n",
      "0\n"
     ]
    }
   ],
   "source": [
    "# Block 3 - Fill in this block to use conditional statements to print the following message: \n",
    "# “The random bit generated by the quantum circuit was ____” where the blank is your random bit\n",
    "print(\"The random bit generated by the quantum circuit was: \")\n",
    "if '0' in counts:\n",
    "    print(\"0\")\n",
    "else:\n",
    "    print(\"1\")"
   ]
  },
  {
   "cell_type": "code",
   "execution_count": null,
   "id": "371da805-5d08-44c2-9b8e-24510dba4aa0",
   "metadata": {
    "id": "371da805-5d08-44c2-9b8e-24510dba4aa0"
   },
   "outputs": [],
   "source": [
    "# Block 4 - Run this block to send your circuit to a real QC - ibmq_armonk\n",
    "backend = provider.get_backend('ibmq_armonk') # Choosing the simulator we want to use\n",
    "job = execute(qc, backend, shots = 1) # Running the simulator - specifying the circuit we want to simulate\n",
    "result = job.result() # Getting the result from the simulator\n",
    "counts = result.get_counts() # Getting the counts of 0 and 1 from the result"
   ]
  },
  {
   "cell_type": "code",
   "execution_count": null,
   "id": "63c31d83-6c40-481c-a319-dfba2c7b4849",
   "metadata": {
    "id": "63c31d83-6c40-481c-a319-dfba2c7b4849"
   },
   "outputs": [],
   "source": [
    "# Block 5 - Repeat the code from Block 3 to print the result. What number did you get?\n",
    "# “The random bit generated by the quantum circuit was ____” where the blank is your random bit\n",
    "if '0' in counts:\n",
    "    print(\"0)\n",
    "else:\n",
    "    print(\"1\")"
   ]
  },
  {
   "cell_type": "code",
   "execution_count": null,
   "id": "3272b802-5001-4da3-85bd-2e91472fc847",
   "metadata": {
    "id": "3272b802-5001-4da3-85bd-2e91472fc847"
   },
   "outputs": [],
   "source": [
    "#Block 6 - Quantum Coin Game. Run this block and see if you win or lose. Then, analyze the indicated part of the code and see if you can figure out what's happening!\n",
    "\n",
    "# Importing all the necessary library\n",
    "from qiskit.tools.jupyter import *\n",
    "from qiskit.visualization import *\n",
    "import qiskit.tools.jupyter #Repetition of line 1?\n",
    "import ipywidgets as widgets\n",
    "\n",
    "print(\"Welcome to the Quantum Coin Game. The coin starts off as Heads, which corresponds to |0>.\")\n",
    "print(\"You are playing against the Quantum Computer. The Quantum Computer will take its turn first.\")\n",
    "print(\"The Quantum Computer has just played its turn. Choose what you are going to do now.\")\n",
    "# Layout\n",
    "button = widgets.Button(\n",
    "    description='Play')\n",
    "player2_move = widgets.Dropdown(\n",
    "    options=[('Do not flip the coin', 'Do Nothing'), ('Flip the coin', 'Apply X gate')],\n",
    "    description='Choice: ',\n",
    "    disabled=False,\n",
    ")\n",
    "out = widgets.Output()\n",
    "def on_button_clicked(b):\n",
    "    with out:\n",
    " #--------------------------------------------CODE FOR GAME STARTS HERE----------------------------------------------------------#       \n",
    "        # Initial Circuit\n",
    "        qc = QuantumCircuit(1, 1)\n",
    "        \n",
    "        # Turn 1\n",
    "        qc.h(0)\n",
    "        \n",
    "        # Turn 2\n",
    "        if player2_move.value == 'Do nothing':\n",
    "            print('You chose to do nothing')\n",
    "        if player2_move.value == 'Apply X gate':\n",
    "            qc.x(0)\n",
    "            print('You chose to flip')\n",
    "        \n",
    "        # Turn 3\n",
    "        qc.h(0)\n",
    "        print('The Quantum Computer has played its turn')\n",
    "        # Measure  \n",
    "        qc.measure(0,0)\n",
    "        \n",
    "        # QASM\n",
    "        backend= Aer.get_backend('qasm_simulator')\n",
    "        job = execute(qc, backend, shots=1)\n",
    "        result = job.result()\n",
    "        counts = result.get_counts()\n",
    "        # Result\n",
    "        if '0' in counts:\n",
    "            print(\"You Lose to Quantum. The Quantum Computer Wins. Try again!\")\n",
    "        if '1' in counts:\n",
    "            print(\"You Win against the Quantum Computer. Great job!\")\n",
    "            \n",
    " #--------------------------------------------CODE FOR GAME ENDS HERE----------------------------------------------------------# \n",
    "button.on_click(on_button_clicked)\n",
    "widgets.VBox([player2_move, button, out])"
   ]
  }
 ],
 "metadata": {
  "colab": {
   "name": "Week_8_lab_notebook.ipynb",
   "provenance": []
  },
  "kernelspec": {
   "display_name": "Qiskit v0.32.1 (ipykernel)",
   "language": "python",
   "name": "python3"
  },
  "language_info": {
   "codemirror_mode": {
    "name": "ipython",
    "version": 3
   },
   "file_extension": ".py",
   "mimetype": "text/x-python",
   "name": "python",
   "nbconvert_exporter": "python",
   "pygments_lexer": "ipython3",
   "version": "3.8.10"
  },
  "widgets": {
   "application/vnd.jupyter.widget-state+json": {
    "state": {},
    "version_major": 2,
    "version_minor": 0
   }
  }
 },
 "nbformat": 4,
 "nbformat_minor": 5
}
